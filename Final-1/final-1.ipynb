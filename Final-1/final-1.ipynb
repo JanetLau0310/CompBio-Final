{
 "cells": [
  {
   "cell_type": "markdown",
   "metadata": {},
   "source": [
    "思路：<br>\n",
    "1. 数据预处理：将输入的 train/test 数据里 class 视为 y, 转为二分类问题：0/1 = Never/Current Somker\n",
    "2. 每个基因位点组合成 X 的 feature vector\n",
    "3. 进行常规的knn训练，并输出\n",
    "4. 进行 k-fold validation\n",
    "\n",
    "一个问题：基因数量12965，而patient只有30人"
   ]
  },
  {
   "cell_type": "code",
   "execution_count": 8,
   "metadata": {},
   "outputs": [
    {
     "name": "stdout",
     "output_type": "stream",
     "text": [
      "PATIENT1       NeverSmoker\n",
      "PATIENT2     CurrentSmoker\n",
      "PATIENT3     CurrentSmoker\n",
      "PATIENT4       NeverSmoker\n",
      "PATIENT5       NeverSmoker\n",
      "PATIENT6     CurrentSmoker\n",
      "PATIENT7     CurrentSmoker\n",
      "PATIENT8       NeverSmoker\n",
      "PATIENT9     CurrentSmoker\n",
      "PATIENT10      NeverSmoker\n",
      "PATIENT11      NeverSmoker\n",
      "PATIENT12      NeverSmoker\n",
      "PATIENT13    CurrentSmoker\n",
      "PATIENT14    CurrentSmoker\n",
      "PATIENT15    CurrentSmoker\n",
      "PATIENT16    CurrentSmoker\n",
      "PATIENT17      NeverSmoker\n",
      "PATIENT18    CurrentSmoker\n",
      "PATIENT19      NeverSmoker\n",
      "PATIENT20    CurrentSmoker\n",
      "PATIENT21    CurrentSmoker\n",
      "PATIENT22      NeverSmoker\n",
      "PATIENT23    CurrentSmoker\n",
      "PATIENT24      NeverSmoker\n",
      "PATIENT25    CurrentSmoker\n",
      "PATIENT26      NeverSmoker\n",
      "PATIENT27    CurrentSmoker\n",
      "PATIENT28      NeverSmoker\n",
      "PATIENT29      NeverSmoker\n",
      "PATIENT30      NeverSmoker\n",
      "Name: Class, dtype: object\n"
     ]
    }
   ],
   "source": [
    "import matplotlib.pyplot as plt\n",
    "import os\n",
    "import numpy as np\n",
    "\n",
    "df=pd.read_table('GSE994-train.txt', sep='\\s+')\n",
    "print(df.loc['Class'])"
   ]
  },
  {
   "cell_type": "code",
   "execution_count": null,
   "metadata": {},
   "outputs": [],
   "source": []
  }
 ],
 "metadata": {
  "kernelspec": {
   "display_name": "Python 3",
   "language": "python",
   "name": "python3"
  },
  "language_info": {
   "codemirror_mode": {
    "name": "ipython",
    "version": 3
   },
   "file_extension": ".py",
   "mimetype": "text/x-python",
   "name": "python",
   "nbconvert_exporter": "python",
   "pygments_lexer": "ipython3",
   "version": "3.7.5"
  }
 },
 "nbformat": 4,
 "nbformat_minor": 2
}
