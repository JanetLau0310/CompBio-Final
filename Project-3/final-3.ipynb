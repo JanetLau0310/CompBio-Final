{
 "cells": [
  {
   "cell_type": "markdown",
   "metadata": {},
   "source": [
    "#### You will need to read the sequences from the file and concatenate multiple lines into a single sequence for each identifier.\n",
    "For the first part of this problem, you will write code to compute codon usage statistics for the “surface glycoprotein\" (spike protein) of the viral coding sequences in covid19codingClean.fasta. The data file is a text file containing sequences in fasta format: a header line starting with the \\>\" character that contains a description of the forthcoming sequence, and then the sequence itself, spread out over many lines. "
   ]
  },
  {
   "cell_type": "code",
   "execution_count": 137,
   "metadata": {},
   "outputs": [],
   "source": [
    "from Bio import SeqIO\n",
    "s_protein_seq = []\n",
    "seq_name = []\n",
    "\n",
    "for seq_record in SeqIO.parse('covid19codingClean.fasta', \"fasta\"):\n",
    "    genename = seq_record.description.split('|')[1].split('[')[0]\n",
    "    if genename == \"surface glycoprotein \":\n",
    "        seq_name.append(seq_record.name)\n",
    "        s_protein_seq.append(str(seq_record.seq))"
   ]
  },
  {
   "cell_type": "code",
   "execution_count": 138,
   "metadata": {},
   "outputs": [
    {
     "data": {
      "text/plain": [
       "'NC_045512.2:21563..25384'"
      ]
     },
     "execution_count": 138,
     "metadata": {},
     "output_type": "execute_result"
    }
   ],
   "source": [
    "seq_name[0]"
   ]
  },
  {
   "cell_type": "markdown",
   "metadata": {},
   "source": [
    "### Your code should compute the number of occurrences of each possible codon in each surface glycoprotein sequence. \n",
    "__This includes stop codons__, although you shouldn't see more than one of these in each sequence! \n",
    "\n",
    "Your code should produce an output file containing data for a table where lines correspond to sequences, columns to codons, and the (integer) values are the number of occurrences of the particular codon in that particular spike protein sequence.\n",
    "\n",
    "If you are looking at the file with coding sequences (covid19codingClean.fasta), then you have just coding sequences.  The __*whole* sequence is coding.__   So you __should *not* be finding stop codons  in the middle of your sequences.__   If you are, that's a sign there is something wrong with your code.   \n",
    "\n",
    "__You may discard any codon that contains any letter other than A, C, G, or T.__"
   ]
  },
  {
   "cell_type": "code",
   "execution_count": 139,
   "metadata": {},
   "outputs": [],
   "source": [
    "codon_table = {\"TTT\" : \"F\", \"CTT\" : \"L\", \"ATT\" : \"I\", \"GTT\" : \"V\",\n",
    "           \"TTC\" : \"F\", \"CTC\" : \"L\", \"ATC\" : \"I\", \"GTC\" : \"V\",\n",
    "           \"TTA\" : \"L\", \"CTA\" : \"L\", \"ATA\" : \"I\", \"GTA\" : \"V\",\n",
    "           \"TTG\" : \"L\", \"CTG\" : \"L\", \"ATG\" : \"Start\", \"GTG\" : \"V\",\n",
    "           \"TCT\" : \"S\", \"CCT\" : \"P\", \"ACT\" : \"T\", \"GCT\" : \"A\",\n",
    "           \"TCC\" : \"S\", \"CCC\" : \"P\", \"ACC\" : \"T\", \"GCC\" : \"A\",\n",
    "           \"TCA\" : \"S\", \"CCA\" : \"P\", \"ACA\" : \"T\", \"GCA\" : \"A\",\n",
    "           \"TCG\" : \"S\", \"CCG\" : \"P\", \"ACG\" : \"T\", \"GCG\" : \"A\",\n",
    "           \"TAT\" : \"Y\", \"CAT\" : \"H\", \"AAT\" : \"N\", \"GAT\" : \"D\",\n",
    "           \"TAC\" : \"Y\", \"CAC\" : \"H\", \"AAC\" : \"N\", \"GAC\" : \"D\",\n",
    "           \"TAA\" : \"STOP\", \"CAA\" : \"Q\", \"AAA\" : \"K\", \"GAA\" : \"E\",\n",
    "           \"TAG\" : \"STOP\", \"CAG\" : \"Q\", \"AAG\" : \"K\", \"GAG\" : \"E\",\n",
    "           \"TGT\" : \"C\", \"CGT\" : \"R\", \"AGT\" : \"S\", \"GGT\" : \"G\",\n",
    "           \"TGC\" : \"C\", \"CGC\" : \"R\", \"AGC\" : \"S\", \"GGC\" : \"G\",\n",
    "           \"TGA\" : \"STOP\", \"CGA\" : \"R\", \"AGA\" : \"R\", \"GGA\" : \"G\",\n",
    "           \"TGG\" : \"W\", \"CGG\" : \"R\", \"AGG\" : \"R\", \"GGG\" : \"G\" }\n",
    "\n",
    "CodonsDict = {  \"TTT\": 0, \"TTC\": 0, \"TTA\": 0, \"TTG\": 0, \"CTT\": 0, \n",
    "        \"CTC\": 0, \"CTA\": 0, \"CTG\": 0, \"ATT\": 0, \"ATC\": 0, \n",
    "        \"ATA\": 0, \"ATG\": 0, \"GTT\": 0, \"GTC\": 0, \"GTA\": 0, \n",
    "       \"GTG\": 0, \"TAT\": 0, \"TAC\": 0, \"TAA\": 0, \"TAG\": 0, \n",
    "       \"CAT\": 0, \"CAC\": 0, \"CAA\": 0, \"CAG\": 0, \"AAT\": 0, \n",
    "       \"AAC\": 0, \"AAA\": 0, \"AAG\": 0, \"GAT\": 0, \"GAC\": 0, \n",
    "       \"GAA\": 0, \"GAG\": 0, \"TCT\": 0, \"TCC\": 0, \"TCA\": 0, \n",
    "       \"TCG\": 0, \"CCT\": 0, \"CCC\": 0, \"CCA\": 0, \"CCG\": 0, \n",
    "       \"ACT\": 0, \"ACC\": 0, \"ACA\": 0, \"ACG\": 0, \"GCT\": 0, \n",
    "       \"GCC\": 0, \"GCA\": 0, \"GCG\": 0, \"TGT\": 0, \"TGC\": 0, \n",
    "       \"TGA\": 0, \"TGG\": 0, \"CGT\": 0, \"CGC\": 0, \"CGA\": 0, \n",
    "       \"CGG\": 0, \"AGT\": 0, \"AGC\": 0, \"AGA\": 0, \"AGG\": 0, \n",
    "       \"GGT\": 0, \"GGC\": 0, \"GGA\": 0, \"GGG\": 0} "
   ]
  },
  {
   "cell_type": "code",
   "execution_count": 144,
   "metadata": {},
   "outputs": [],
   "source": [
    "def count_codon(seq):\n",
    "    dna =  seq\n",
    "    self_dict = CodonsDict.copy()\n",
    "    for i in range(0, len(dna)-(3+len(dna)%3), 3):\n",
    "        codon = dna[i:i + 3]\n",
    "        if codon in codon_table:\n",
    "            self_dict[codon] +=1\n",
    "            if codon_table[codon] == 'STOP':\n",
    "                break\n",
    "    \n",
    "    return self_dict"
   ]
  },
  {
   "cell_type": "code",
   "execution_count": 123,
   "metadata": {},
   "outputs": [
    {
     "name": "stdout",
     "output_type": "stream",
     "text": [
      "['accnum', 'AAA', 'AAC', 'AAG', 'AAT', 'ACA', 'ACC', 'ACG', 'ACT', 'AGA', 'AGC', 'AGG', 'AGT', 'ATA', 'ATC', 'ATG', 'ATT', 'CAA', 'CAC', 'CAG', 'CAT', 'CCA', 'CCC', 'CCG', 'CCT', 'CGA', 'CGC', 'CGG', 'CGT', 'CTA', 'CTC', 'CTG', 'CTT', 'GAA', 'GAC', 'GAG', 'GAT', 'GCA', 'GCC', 'GCG', 'GCT', 'GGA', 'GGC', 'GGG', 'GGT', 'GTA', 'GTC', 'GTG', 'GTT', 'TAA', 'TAC', 'TAG', 'TAT', 'TCA', 'TCC', 'TCG', 'TCT', 'TGA', 'TGC', 'TGG', 'TGT', 'TTA', 'TTC', 'TTG', 'TTT']\n"
     ]
    }
   ],
   "source": [
    "import collections\n",
    "col = ['accnum']\n",
    "codon_dict = collections.OrderedDict(sorted(count_codon(s_protein_seq[0]).items()))\n",
    "for k,v in codon_dict.items():\n",
    "    col.append(k)\n",
    "print(col)"
   ]
  },
  {
   "cell_type": "code",
   "execution_count": 12,
   "metadata": {},
   "outputs": [],
   "source": [
    "output = open('FPp3a-output','a')\n",
    "tmp = ','.join(col)\n",
    "output.write(tmp+'\\n')\n",
    "output.close()"
   ]
  },
  {
   "cell_type": "code",
   "execution_count": 13,
   "metadata": {},
   "outputs": [],
   "source": [
    "output = open('FPp3a-output','a')\n",
    "for i in range(0, len(s_protein_seq)):\n",
    "    res=[]\n",
    "    res.append(seq_name[i])\n",
    "    codon_dict = collections.OrderedDict(sorted(count_codon(s_protein_seq[i]).items()))\n",
    "    for k,v in codon_dict.items():\n",
    "        res.append(v)\n",
    "    output.write(str(res).split('[')[1].split(']')[0]+'\\n')\n",
    "output.close()"
   ]
  },
  {
   "cell_type": "markdown",
   "metadata": {},
   "source": [
    "The nucleotide frequencies across the whole genome for that particular sequence are \n",
    "\n",
    "### A: 0.290, C: 0.189, G: 0.180, T: 0.330. "
   ]
  },
  {
   "cell_type": "code",
   "execution_count": 40,
   "metadata": {},
   "outputs": [
    {
     "name": "stdout",
     "output_type": "stream",
     "text": [
      "[38, 34, 23, 54, 40, 10, 3, 44, 20, 5, 10, 17, 18, 14, 14, 44, 46, 4, 16, 13, 25, 4, 0, 29, 0, 1, 2, 9, 9, 12, 3, 36, 34, 19, 14, 43, 27, 8, 2, 42, 17, 15, 3, 47, 15, 21, 13, 48, 0, 14, 0, 40, 26, 12, 2, 37, 0, 12, 12, 28, 28, 18, 20, 59]\n"
     ]
    }
   ],
   "source": [
    "with open('FPp3a-output','r') as f:\n",
    "    for num, line in enumerate(f):\n",
    "        if num == 1:\n",
    "            first_save = line.strip('\\n')\n",
    "            break\n",
    "observe = first_save.split(',')[1:]\n",
    "observe = [int(x) for x in observe]\n",
    "print(observe)"
   ]
  },
  {
   "cell_type": "code",
   "execution_count": 41,
   "metadata": {},
   "outputs": [
    {
     "name": "stdout",
     "output_type": "stream",
     "text": [
      "['AAA', 'AAC', 'AAG', 'AAT', 'ACA', 'ACC', 'ACG', 'ACT', 'AGA', 'AGC', 'AGG', 'AGT', 'ATA', 'ATC', 'ATG', 'ATT', 'CAA', 'CAC', 'CAG', 'CAT', 'CCA', 'CCC', 'CCG', 'CCT', 'CGA', 'CGC', 'CGG', 'CGT', 'CTA', 'CTC', 'CTG', 'CTT', 'GAA', 'GAC', 'GAG', 'GAT', 'GCA', 'GCC', 'GCG', 'GCT', 'GGA', 'GGC', 'GGG', 'GGT', 'GTA', 'GTC', 'GTG', 'GTT', 'TAA', 'TAC', 'TAG', 'TAT', 'TCA', 'TCC', 'TCG', 'TCT', 'TGA', 'TGC', 'TGG', 'TGT', 'TTA', 'TTC', 'TTG', 'TTT']\n"
     ]
    }
   ],
   "source": [
    "print(col[1:])"
   ]
  },
  {
   "cell_type": "code",
   "execution_count": 101,
   "metadata": {},
   "outputs": [],
   "source": [
    "n = sum(observe)\n",
    "ref = {\"A\": 0.290, \"C\": 0.189, \"G\": 0.180, \"T\": 0.330}\n",
    "exp = []\n",
    "for i in range(1,len(col)):\n",
    "    prob = 1.0\n",
    "    tmp = col[i]\n",
    "    for j in range(0,3):\n",
    "        if tmp[j] in ref:\n",
    "            prob *= ref.get(tmp[j])\n",
    "    exp.append(prob*n)"
   ]
  },
  {
   "cell_type": "code",
   "execution_count": 102,
   "metadata": {},
   "outputs": [
    {
     "name": "stdout",
     "output_type": "stream",
     "text": [
      "exp  [31.047197   20.2342077  19.270674   35.329569   20.2342077  13.18712157\n",
      " 12.5591634  23.0251329  19.270674   12.5591634  11.961108   21.928698\n",
      " 35.329569   23.0251329  21.928698   40.202613   20.2342077  13.18712157\n",
      " 12.5591634  23.0251329  13.18712157  8.59436544  8.18510994 15.00603489\n",
      " 12.5591634   8.18510994  7.7953428  14.2914618  23.0251329  15.00603489\n",
      " 14.2914618  26.2010133  19.270674   12.5591634  11.961108   21.928698\n",
      " 12.5591634   8.18510994  7.7953428  14.2914618  11.961108    7.7953428\n",
      "  7.424136   13.610916   21.928698   14.2914618  13.610916   24.953346\n",
      " 35.329569   23.0251329  21.928698   40.202613   23.0251329  15.00603489\n",
      " 14.2914618  26.2010133  21.928698   14.2914618  13.610916   24.953346\n",
      " 40.202613   26.2010133  24.953346   45.747801  ]\n",
      "obs  [38 34 23 54 40 10  3 44 20  5 10 17 18 14 14 44 46  4 16 13 25  4  0 29\n",
      "  0  1  2  9  9 12  3 36 34 19 14 43 27  8  2 42 17 15  3 47 15 21 13 48\n",
      "  0 14  0 40 26 12  2 37  0 12 12 28 28 18 20 59]\n"
     ]
    }
   ],
   "source": [
    "import numpy as np\n",
    "obs = np.array(observe)\n",
    "print(\"exp \", np.array(exp))\n",
    "print(\"obs \", obs)"
   ]
  },
  {
   "cell_type": "code",
   "execution_count": 103,
   "metadata": {},
   "outputs": [],
   "source": [
    "chi_suqare = ['NC_045512.2']\n",
    "for i in range(0,len(exp)):\n",
    "    X = (np.square(obs[i] - exp[i]))/exp[i]\n",
    "    chi_suqare.append(X)"
   ]
  },
  {
   "cell_type": "code",
   "execution_count": 104,
   "metadata": {},
   "outputs": [],
   "source": [
    "col[0] = 'chi_suqare'\n",
    "with open('FPp3b','a') as f:\n",
    "    tmp = ','.join(col)\n",
    "    f.write(tmp+'\\n')\n",
    "    f.write(str(chi_suqare).split('[')[1].split(']')[0]+'\\n')"
   ]
  },
  {
   "cell_type": "code",
   "execution_count": 112,
   "metadata": {},
   "outputs": [
    {
     "name": "stdout",
     "output_type": "stream",
     "text": [
      "[43 39 48 16 56 50 47 35  4  7 36 23 24 32 20 54  3  1 30 28 12 22  6 41\n",
      " 17 25  9 55 19 38 26 63 60 31 49 13 33 45 14 42 61 21 44 40 27  0 11 62\n",
      " 18  5  2 29 53 52 59 57 15 34 10 58  8 46 37 51]\n",
      "['TAA', 'TGA', 'TAG', 'CGA', 'TCG', 'CTG', 'CTA', 'ATA', 'CCG', 'ACG', 'CAC', 'CGC', 'AGC', 'CAT', 'GCG', 'CGG', 'TTA', 'TAC', 'ATC', 'ATG', 'GGG', 'TTC', 'CCC', 'GTA', 'CGT', 'AGT', 'TTG', 'ACC', 'CTC', 'TCC', 'TGC', 'AGG', 'TGG', 'GTG', 'GCC', 'TAT']\n",
      "[48, 56, 50, 24, 54, 30, 28, 12, 22, 6, 17, 25, 9, 19, 38, 26, 60, 49, 13, 14, 42, 61, 21, 44, 27, 11, 62, 5, 29, 53, 57, 10, 58, 46, 37, 51]\n"
     ]
    }
   ],
   "source": [
    "chi_sort = np.argsort(chi_suqare[1:])[::-1]\n",
    "print(chi_sort)\n",
    "last_codon = []\n",
    "last_idx = []\n",
    "for i in range(0,len(chi_sort)):\n",
    "    if obs[chi_sort[i]]<=exp[chi_sort[i]]:\n",
    "        last_codon.append(col[chi_sort[i]+1])\n",
    "        last_idx.append(chi_sort[i])\n",
    "\n",
    "print(last_codon)\n",
    "print(last_idx)"
   ]
  },
  {
   "cell_type": "code",
   "execution_count": 117,
   "metadata": {},
   "outputs": [],
   "source": [
    "with open('FPp3b-rare','a') as f:\n",
    "    for i in range(0,5):\n",
    "        f.write(last_codon[i])\n",
    "        f.write('\\t'+str(round(chi_suqare[last_idx[i]]))+'\\n')"
   ]
  }
 ],
 "metadata": {
  "kernelspec": {
   "display_name": "Python 3",
   "language": "python",
   "name": "python3"
  },
  "language_info": {
   "codemirror_mode": {
    "name": "ipython",
    "version": 3
   },
   "file_extension": ".py",
   "mimetype": "text/x-python",
   "name": "python",
   "nbconvert_exporter": "python",
   "pygments_lexer": "ipython3",
   "version": "3.7.5"
  }
 },
 "nbformat": 4,
 "nbformat_minor": 2
}
