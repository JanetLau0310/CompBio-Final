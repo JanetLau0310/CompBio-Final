{
 "cells": [
  {
   "cell_type": "markdown",
   "metadata": {},
   "source": [
    "#### 序列分析：密码子偏好统计\n",
    "思路：\n",
    "1. 先将 S-蛋白序列读入并存储\n",
    "2. 寻找每个序列中的 possible codon ( 终止密码子只能出现一次 )<br>\n",
    "    输出: 行—对应序列； 列—对应密码子；整数值—密码子出现次数\n",
    "3. 在特定的seq (number NC 045512.2) 中 根据所给的table A: 0.290, C: 0.189, G: 0.180, T: 0.330. <br>\n",
    "    计算观察与预期差值平均的卡方统计量，排序输出最高的五个\n",
    "4. 计算 codon 在每个s-proten 中的差异，计算 std deviation of codon counts for all codons across all sequences 并进行分析"
   ]
  },
  {
   "cell_type": "code",
   "execution_count": 1,
   "metadata": {},
   "outputs": [
    {
     "name": "stdout",
     "output_type": "stream",
     "text": [
      "Reading frame1\n",
      "START 75337\n",
      "STOP 3371\n",
      "Reading frame2\n",
      "START 157745\n",
      "STOP 201703\n",
      "Reading frame3\n",
      "START 24864\n",
      "STOP 421051\n"
     ]
    }
   ],
   "source": [
    "codon_table = {\n",
    "    'TAA':'STOP',\n",
    "    'TAG':'STOP',\n",
    "    'TGA':'STOP',\n",
    "    'ATG':'Start'}\n",
    "rna = ''\n",
    "for line in open('covid19codingClean.fasta'):\n",
    "    if not line.startswith('>'):\n",
    "        rna = rna + line.strip()\n",
    "for frame in range(3):\n",
    "    print('Reading frame'+str(frame + 1))\n",
    "    count_STOP = 0\n",
    "    count_START = 0\n",
    "    for i in range(frame,len(rna),3):\n",
    "        codon = rna[i:i + 3]\n",
    "        if codon in codon_table:\n",
    "            if codon_table[codon] == 'STOP':\n",
    "                count_STOP += 1\n",
    "            if codon_table[codon] == 'Start':\n",
    "                count_START += 1\n",
    "    print('START',count_START)\n",
    "    print('STOP',count_STOP)"
   ]
  },
  {
   "cell_type": "code",
   "execution_count": null,
   "metadata": {},
   "outputs": [],
   "source": []
  },
  {
   "cell_type": "code",
   "execution_count": null,
   "metadata": {},
   "outputs": [],
   "source": []
  },
  {
   "cell_type": "code",
   "execution_count": null,
   "metadata": {},
   "outputs": [],
   "source": []
  },
  {
   "cell_type": "code",
   "execution_count": null,
   "metadata": {},
   "outputs": [],
   "source": []
  },
  {
   "cell_type": "code",
   "execution_count": null,
   "metadata": {},
   "outputs": [],
   "source": []
  },
  {
   "cell_type": "code",
   "execution_count": null,
   "metadata": {},
   "outputs": [],
   "source": []
  }
 ],
 "metadata": {
  "kernelspec": {
   "display_name": "Python 3",
   "language": "python",
   "name": "python3"
  },
  "language_info": {
   "codemirror_mode": {
    "name": "ipython",
    "version": 3
   },
   "file_extension": ".py",
   "mimetype": "text/x-python",
   "name": "python",
   "nbconvert_exporter": "python",
   "pygments_lexer": "ipython3",
   "version": "3.7.5"
  }
 },
 "nbformat": 4,
 "nbformat_minor": 2
}
