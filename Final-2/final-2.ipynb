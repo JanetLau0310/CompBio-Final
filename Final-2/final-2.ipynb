{
 "cells": [
  {
   "cell_type": "markdown",
   "metadata": {},
   "source": [
    "### (a)Building the PPI graph.\n",
    "First, you will construct a simple __undirected, unweighted__ graph from this protein-protein interaction network. <br>\n",
    "Namely, each graph node corresponds to a protein in the protein interaction network, and an __undirected edge exists between two nodes if there is an interaction between the two proteins.__<br>\n",
    "Show how you construct your graph (code or log of interactive data analysis commands) as part of your solution to part a. <br>\n",
    "Help us out by labeling the submission with the file header FPp2a."
   ]
  },
  {
   "cell_type": "code",
   "execution_count": 47,
   "metadata": {},
   "outputs": [],
   "source": [
    "import matplotlib.pyplot as plt\n",
    "import networkx as nx\n",
    "import numpy as np\n",
    "import os"
   ]
  },
  {
   "cell_type": "code",
   "execution_count": 48,
   "metadata": {},
   "outputs": [],
   "source": [
    "# read edge list to networkx \n",
    "# the format of each line: (protein-1, protein-2, confidence of the interaction existence )\n",
    "def createGraph(filename) :\n",
    "    G = nx.Graph()\n",
    "    for line in open(filename) :\n",
    "        strlist = line.split('\\t')\n",
    "        n1 = strlist[0]\n",
    "        n2 = strlist[1]\n",
    "        weight = float(strlist[2])\n",
    "        G.add_weighted_edges_from([(n1, n2, weight)]) #G.add_edges_from([(n1, n2)])\n",
    "    return G"
   ]
  },
  {
   "cell_type": "code",
   "execution_count": 49,
   "metadata": {},
   "outputs": [],
   "source": [
    "yeast_file = 'yeast.ppi'\n",
    "G = createGraph(yeast_file)"
   ]
  },
  {
   "cell_type": "markdown",
   "metadata": {},
   "source": [
    "### (b)Compute the degree distribution for the 5,001 nodes of the graph\n",
    "plot it as a bar graph with degree on the x-axis and counts on the y-axis, and submit this image as __FPp2-degreedist.__"
   ]
  },
  {
   "cell_type": "code",
   "execution_count": 50,
   "metadata": {},
   "outputs": [
    {
     "data": {
      "text/plain": [
       "5001"
      ]
     },
     "execution_count": 50,
     "metadata": {},
     "output_type": "execute_result"
    }
   ],
   "source": [
    "G.number_of_nodes()"
   ]
  },
  {
   "cell_type": "code",
   "execution_count": 51,
   "metadata": {},
   "outputs": [
    {
     "data": {
      "text/plain": [
       "76025"
      ]
     },
     "execution_count": 51,
     "metadata": {},
     "output_type": "execute_result"
    }
   ],
   "source": [
    "G.number_of_edges()"
   ]
  },
  {
   "cell_type": "code",
   "execution_count": 52,
   "metadata": {},
   "outputs": [
    {
     "name": "stdout",
     "output_type": "stream",
     "text": [
      "dict_items([(2950, 1), (2327, 1), (1093, 1), (1048, 1), (978, 1), (937, 1), (881, 1), (812, 1), (718, 1), (581, 1), (552, 2), (486, 1), (485, 1), (483, 1), (453, 1), (450, 1), (431, 1), (420, 1), (406, 1), (404, 1), (383, 1), (377, 1), (371, 1), (360, 1), (357, 1), (351, 1), (342, 1), (325, 1), (313, 1), (309, 2), (308, 1), (302, 1), (292, 1), (284, 1), (281, 1), (271, 1), (262, 1), (260, 1), (258, 1), (254, 1), (246, 1), (234, 1), (232, 1), (211, 1), (208, 1), (204, 2), (203, 1), (202, 1), (199, 1), (195, 1), (193, 1), (192, 2), (190, 1), (187, 2), (185, 1), (183, 2), (179, 1), (178, 1), (174, 1), (173, 1), (170, 1), (169, 1), (168, 2), (167, 1), (165, 1), (164, 1), (161, 1), (160, 3), (156, 1), (155, 1), (154, 2), (153, 1), (151, 2), (150, 1), (149, 2), (148, 1), (147, 2), (146, 1), (145, 1), (144, 1), (142, 1), (141, 1), (140, 1), (139, 3), (138, 2), (137, 2), (136, 2), (135, 3), (134, 2), (132, 1), (131, 4), (130, 1), (129, 4), (128, 2), (127, 3), (125, 2), (124, 4), (123, 3), (122, 3), (121, 3), (120, 4), (119, 3), (118, 4), (117, 1), (116, 4), (115, 4), (114, 6), (113, 1), (112, 2), (111, 5), (110, 4), (109, 6), (108, 5), (107, 3), (106, 10), (105, 4), (104, 4), (103, 5), (102, 6), (101, 5), (100, 4), (99, 6), (98, 5), (97, 7), (96, 5), (95, 7), (94, 4), (93, 7), (92, 6), (91, 6), (90, 3), (89, 7), (88, 5), (87, 10), (86, 6), (85, 6), (84, 8), (83, 5), (82, 7), (81, 6), (80, 7), (79, 13), (78, 5), (77, 6), (76, 6), (75, 12), (74, 12), (73, 9), (72, 4), (71, 8), (70, 7), (69, 13), (68, 12), (67, 8), (66, 16), (65, 7), (64, 7), (63, 16), (62, 25), (61, 10), (60, 14), (59, 16), (58, 16), (57, 12), (56, 20), (55, 24), (54, 17), (53, 17), (52, 22), (51, 23), (50, 16), (49, 30), (48, 20), (47, 28), (46, 32), (45, 31), (44, 33), (43, 30), (42, 29), (41, 33), (40, 42), (39, 35), (38, 38), (37, 45), (36, 47), (35, 37), (34, 46), (33, 39), (32, 32), (31, 53), (30, 51), (29, 43), (28, 41), (27, 59), (26, 45), (25, 59), (24, 63), (23, 86), (22, 69), (21, 95), (20, 78), (19, 70), (18, 86), (17, 92), (16, 97), (15, 107), (14, 116), (13, 142), (12, 139), (11, 139), (10, 169), (9, 181), (8, 155), (7, 202), (6, 201), (5, 212), (4, 231), (3, 227), (2, 178), (1, 142)])\n"
     ]
    }
   ],
   "source": [
    "import collections\n",
    "degree_sequence = sorted([d for n, d in G.degree()], reverse=True)  # degree sequence\n",
    "#print(\"Degree sequence\", degree_sequence)\n",
    "degreeCount = collections.Counter(degree_sequence)\n",
    "print(degreeCount.items())"
   ]
  },
  {
   "cell_type": "code",
   "execution_count": 53,
   "metadata": {},
   "outputs": [
    {
     "data": {
      "image/png": "[encoded data removed]",
      "text/plain": [
       "<Figure size 432x288 with 1 Axes>"
      ]
     },
     "metadata": {
      "needs_background": "light"
     },
     "output_type": "display_data"
    }
   ],
   "source": [
    "deg, cnt = zip(*degreeCount.items())\n",
    "\n",
    "fig, ax = plt.subplots()\n",
    "plt.bar(deg, cnt, width=0.60)\n",
    "\n",
    "#plt.hist(degree_values)\n",
    "plt.xscale('log')\n",
    "plt.title(\"Degree distribution\")\n",
    "plt.ylabel('Counts of the Nodes')\n",
    "plt.xlabel(\"Degree\")\n",
    "plt.savefig('FPp2-degreedist.png')\n",
    "plt.show()"
   ]
  },
  {
   "cell_type": "markdown",
   "metadata": {},
   "source": [
    "#### Do you believe that this network fits the definition of scale-free? Why or why not?\n",
    "\n",
    "(Put your answer in the file FPp2b-answer.)\n",
    "\n",
    "I think this PPI Network is scale-free. As the degree sequence shows, there is one node whose degree can be 2950, but there are 142 nodes have degree=1, and 178 have degree = 2. I did some scaling work to my output image, without it the graph will shows really unbalanced."
   ]
  },
  {
   "cell_type": "markdown",
   "metadata": {},
   "source": [
    "### (c) Compute the local clustering coefficient for each node in the graph. \n",
    "Submit any __code__ you wrote, plus a __tab-delimited file, FPp2c-clustcoef__\n",
    "1. First column is the protein ID \n",
    "2. Second column is the clustering coefficient. \n",
    "3. Both YGR296W and YPL098C have 5 interacting partners; which one has the higher clustering coecient? Explain briefly what the difference means."
   ]
  },
  {
   "cell_type": "code",
   "execution_count": 54,
   "metadata": {},
   "outputs": [],
   "source": [
    "G_test = nx.Graph()\n",
    "G_test.add_nodes_from(['a','b','c','d','e','f','g'])\n",
    "G_test.add_edges_from([('a','d'),('b','d'),('b','c'),('c','d'),('d','e'),('d','f'),('d','g'),('e','f'),('e','g')])\n",
    "\n",
    "G1 = nx.Graph()\n",
    "G1.add_nodes_from(['a','b','c','d','e','f','g'])\n",
    "G1.add_edges_from([('a','b'),('a','e'),('b','c'),('b','e'),('b','f'),('c','f'),('c','e'),('d','f'),('e','f'),('g','f')])"
   ]
  },
  {
   "cell_type": "code",
   "execution_count": 55,
   "metadata": {},
   "outputs": [],
   "source": [
    "def local_cluster(G, node):\n",
    "    #print(\"degree \", G[node])\n",
    "    x = sum([1 for u in G[node] for v in G[node] if not u == v and (u, v) in G.edges()])\n",
    "    #print(\"x = \",x)\n",
    "    if(len(G[node]) != 0 and len(G[node])!=1):\n",
    "        y = (len(G[node]) * (len(G[node]) - 1))\n",
    "        #print(\"y= \",y)\n",
    "    else:\n",
    "        return 0.0\n",
    "    return  x/y"
   ]
  },
  {
   "cell_type": "code",
   "execution_count": 56,
   "metadata": {},
   "outputs": [],
   "source": [
    "fp2c = 'FPp2c-clustcoef.txt'\n",
    "nodes = list(G.nodes())\n",
    "\n",
    "with open(fp2c,'a') as f:\n",
    "    for node in nodes:\n",
    "        f.write(node+'\\t'+str(local_cluster(G,node))+'\\n')"
   ]
  },
  {
   "cell_type": "code",
   "execution_count": 57,
   "metadata": {},
   "outputs": [
    {
     "name": "stdout",
     "output_type": "stream",
     "text": [
      "YGR296W:  0.1\n",
      "YPL098C:  0.8\n"
     ]
    }
   ],
   "source": [
    "print(\"YGR296W: \",local_cluster(G,'YGR296W'))\n",
    "print(\"YPL098C: \" ,local_cluster(G,'YPL098C'))"
   ]
  },
  {
   "cell_type": "markdown",
   "metadata": {},
   "source": [
    "The result of local cluster coefficient is YGR296W = 0.1 and YPL098C = 0.8, so the latter is higher. <br>\n",
    "As the result shows, the difference between then is the Numerator, which means the number of triangles containing v. Consider that they have the same degree = 5, it means the interacting partners of YPL098C also interact with each other much more than YGR296W's partners."
   ]
  },
  {
   "cell_type": "code",
   "execution_count": 58,
   "metadata": {},
   "outputs": [],
   "source": [
    "def triangle(Graph):\n",
    "    tri_test = list(nx.triangles(Graph).values())\n",
    "    tmp = 0\n",
    "    for i in tri_test:\n",
    "        tmp += i\n",
    "    return tmp/3.0"
   ]
  },
  {
   "cell_type": "code",
   "execution_count": 59,
   "metadata": {},
   "outputs": [
    {
     "name": "stdout",
     "output_type": "stream",
     "text": [
      "354514.0\n"
     ]
    }
   ],
   "source": [
    "print(triangle(G))"
   ]
  },
  {
   "cell_type": "markdown",
   "metadata": {},
   "source": [
    "The number of triangles in G is 354514, I use the existing methods in networkX, which is the nx.triangles(), but this method will count the triangle of every nodes in Graph G, so to get the percise result, we need to divide the result by 3."
   ]
  },
  {
   "cell_type": "markdown",
   "metadata": {},
   "source": [
    "### (e)  A simple way to define the \"closeness\" is to use shortest path distance.\n",
    "In order to estimate the path length distribution for this graph, sample 1000 nodes at random from the graph, and compute the distribution of shortest path distances between these 1000 nodes."
   ]
  },
  {
   "cell_type": "code",
   "execution_count": 60,
   "metadata": {},
   "outputs": [],
   "source": [
    "from random import sample\n",
    "random_nodes = sample(list(G.nodes()),1000)"
   ]
  },
  {
   "cell_type": "code",
   "execution_count": 61,
   "metadata": {},
   "outputs": [],
   "source": [
    "new_edge = []\n",
    "for i in range(0,1000):\n",
    "    for j in range(i+1,1000):\n",
    "        if G.get_edge_data(random_nodes[i],random_nodes[j]):\n",
    "            new_edge.append((random_nodes[i],random_nodes[j]))\n",
    "\n",
    "G_tmp = nx.Graph()\n",
    "G_tmp.add_nodes_from(random_nodes)\n",
    "G_tmp.add_edges_from(new_edge)"
   ]
  },
  {
   "cell_type": "code",
   "execution_count": 62,
   "metadata": {},
   "outputs": [],
   "source": [
    "tmp_nodes = list(G_tmp.nodes())\n",
    "y = np.zeros((1000,1000),dtype=np.int)\n",
    "for i in range(0,1000):\n",
    "    for j in range(i+1,1000):\n",
    "        if nx.has_path(G_tmp,tmp_nodes[i],tmp_nodes[j]):\n",
    "            y[i][j] = nx.shortest_path_length(G_tmp, tmp_nodes[i],tmp_nodes[j])\n",
    "    #print(y[i])"
   ]
  },
  {
   "cell_type": "code",
   "execution_count": 63,
   "metadata": {},
   "outputs": [],
   "source": [
    "def get_freq(arr):\n",
    "    unique = np.unique(arr)\n",
    "    res = [0]*len(unique)\n",
    "    for i in range(len(arr)):\n",
    "        for j in range(i+1,len(arr)):\n",
    "            for k in range(len(unique)):\n",
    "                if arr[i][j] == unique[k]:\n",
    "                    res[k] +=1\n",
    "    return res\n",
    "\n",
    "xout = np.unique(y)\n",
    "yout = get_freq(y)"
   ]
  },
  {
   "cell_type": "code",
   "execution_count": 64,
   "metadata": {},
   "outputs": [
    {
     "data": {
      "image/png": "[encoded data removed]",
      "text/plain": [
       "<Figure size 432x288 with 1 Axes>"
      ]
     },
     "metadata": {
      "needs_background": "light"
     },
     "output_type": "display_data"
    }
   ],
   "source": [
    "plt.title(\"Shortest Path Distribution\")\n",
    "plt.plot(xout,yout)\n",
    "plt.xticks(xout)\n",
    "plt.yscale('log')\n",
    "plt.ylabel('Frequency')\n",
    "plt.xlabel(\"Length of Shortest Path\")\n",
    "plt.savefig(\"FPp2e-spdists.png\")\n",
    "plt.show()"
   ]
  },
  {
   "cell_type": "markdown",
   "metadata": {},
   "source": [
    "### Description of methods used. \n",
    "How does this compare to your expectations for a protein-protein interaction network?\n",
    "\n",
    "The unexpected thing I found is, the lenght of shortest path have too much 0, which I think it might be more reasonable to be less than len=1. But when I print all the column in y, I realized that there are many proteins do not connect with other proteins, it is because we only find the path between these 1000 nodes. Therefore, the graph with these 1000 nodes and their edges is __disconnected.__"
   ]
  },
  {
   "cell_type": "code",
   "execution_count": 65,
   "metadata": {},
   "outputs": [
    {
     "name": "stdout",
     "output_type": "stream",
     "text": [
      "204\n"
     ]
    }
   ],
   "source": [
    "tmp = list(nx.connected_components(G_tmp))\n",
    "print(len(tmp))\n",
    "#print(tmp[1:len(tmp)])"
   ]
  },
  {
   "cell_type": "code",
   "execution_count": 66,
   "metadata": {},
   "outputs": [
    {
     "name": "stdout",
     "output_type": "stream",
     "text": [
      "8\n"
     ]
    }
   ],
   "source": [
    "diam = []\n",
    "for c in nx.connected_components(G_tmp):\n",
    "    diam.append(nx.diameter(G_tmp.subgraph(c)))\n",
    "print(max(diam))"
   ]
  },
  {
   "cell_type": "markdown",
   "metadata": {},
   "source": [
    "### (f) Estimate the diameter of the network based on your answer to the previous question. \n",
    "How does what you found relate to the results of the previous question? \n",
    "\n",
    "Since this graph is undirected and disconnected graph, to count the diameter we need to know its connected components. But the result is, there are 204 components,and most of them is an individual node ( which menas diameter = 0 ), so the diam in this network is 8."
   ]
  }
 ],
 "metadata": {
  "kernelspec": {
   "display_name": "Python 3",
   "language": "python",
   "name": "python3"
  },
  "language_info": {
   "codemirror_mode": {
    "name": "ipython",
    "version": 3
   },
   "file_extension": ".py",
   "mimetype": "text/x-python",
   "name": "python",
   "nbconvert_exporter": "python",
   "pygments_lexer": "ipython3",
   "version": "3.7.5"
  }
 },
 "nbformat": 4,
 "nbformat_minor": 2
}
